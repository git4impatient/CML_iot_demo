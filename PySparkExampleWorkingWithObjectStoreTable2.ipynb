{
 "cells": [
  {
   "cell_type": "code",
   "execution_count": 1,
   "metadata": {},
   "outputs": [],
   "source": [
    "from __future__ import print_function\n",
    "import sys\n",
    "from random import random\n",
    "from operator import add\n",
    "from pyspark.sql import SparkSession\n"
   ]
  },
  {
   "cell_type": "code",
   "execution_count": 2,
   "metadata": {},
   "outputs": [],
   "source": [
    "spark = SparkSession\\\n",
    "    .builder\\\n",
    "    .config('job.local.dir', 'file:///home/cdsw/')\\\n",
<<<<<<< HEAD
    "    .appName(\"PySpark2ObjectStore\")\\\n",
=======
    "    .appName(\"WriteDF2Parquet\")\\\n",
>>>>>>> 06bed282839380d8c3a0b6e73c309a83a37f5956
    "    .config(\"spark.authenticate\", \"true\") \\\n",
    "    .config(\"spark.yarn.access.hadoopFileSystems\",\"s3a://cdp-sandbox-default-se/datalake/warehouse\")\\\n",
    "    .getOrCreate()"
   ]
  },
  {
   "cell_type": "code",
   "execution_count": 3,
   "metadata": {},
   "outputs": [
    {
     "data": {
      "text/plain": [
       "[Row(database='default', tableName='airlinesentimentkudu', isTemporary=False),\n",
       " Row(database='default', tableName='default', isTemporary=False),\n",
       " Row(database='default', tableName='foos', isTemporary=False),\n",
       " Row(database='default', tableName='john', isTemporary=False),\n",
<<<<<<< HEAD
       " Row(database='default', tableName='martyiotdata', isTemporary=False),\n",
       " Row(database='default', tableName='martyiotlineage1', isTemporary=False),\n",
       " Row(database='default', tableName='martyiotlineage2', isTemporary=False),\n",
       " Row(database='default', tableName='martyiotlineage3', isTemporary=False),\n",
       " Row(database='default', tableName='martyiotonecol', isTemporary=False),\n",
       " Row(database='default', tableName='meto', isTemporary=False)]"
=======
       " Row(database='default', tableName='martyiotdata', isTemporary=False)]"
>>>>>>> 06bed282839380d8c3a0b6e73c309a83a37f5956
      ]
     },
     "execution_count": 3,
     "metadata": {},
     "output_type": "execute_result"
    }
   ],
   "source": [
    "foo=spark.sql(\"show tables\")\n",
<<<<<<< HEAD
    "foo.take(10)"
=======
    "foo.take(5)"
>>>>>>> 06bed282839380d8c3a0b6e73c309a83a37f5956
   ]
  },
  {
   "cell_type": "code",
   "execution_count": 4,
   "metadata": {},
   "outputs": [
    {
     "data": {
      "text/plain": [
       "[Row(deviceid=None, sensor1=None, sensor2=None, sensor3=None, sensor4=None, label=None),\n",
       " Row(deviceid=5571221, sensor1=0.14456573128700256, sensor2=0.6135300993919373, sensor3=0.5498997569084167, sensor4=135.2575225830078, label=0),\n",
       " Row(deviceid=7588711, sensor1=0.39894384145736694, sensor2=0.4028850495815277, sensor3=0.41162601113319397, sensor4=97.69158935546875, label=0),\n",
       " Row(deviceid=2999973, sensor1=1.4662971496582031, sensor2=0.30322206020355225, sensor3=0.6906339526176453, sensor4=110.96170806884766, label=0),\n",
       " Row(deviceid=5825525, sensor1=0.31970056891441345, sensor2=0.6106138229370117, sensor3=0.4498195946216583, sensor4=80.31383514404297, label=0)]"
      ]
     },
     "execution_count": 4,
     "metadata": {},
     "output_type": "execute_result"
    }
   ],
   "source": [
    "spark.sql(\"select * from martyiotlineage1\").take(5)"
   ]
  },
  {
   "cell_type": "code",
   "execution_count": null,
   "metadata": {},
   "outputs": [],
   "source": []
  }
 ],
 "metadata": {
  "kernelspec": {
   "display_name": "Python 3",
   "language": "python",
   "name": "python3"
  },
  "language_info": {
   "codemirror_mode": {
    "name": "ipython",
    "version": 3
   },
   "file_extension": ".py",
   "mimetype": "text/x-python",
   "name": "python",
   "nbconvert_exporter": "python",
   "pygments_lexer": "ipython3",
   "version": "3.6.10"
  }
 },
 "nbformat": 4,
 "nbformat_minor": 4
}
